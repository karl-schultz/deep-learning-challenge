{
  "cells": [
    {
      "cell_type": "markdown",
      "source": [
        "PART 2: Optimized Deep Learning Model"
      ],
      "metadata": {
        "id": "qRCjq5NSu18B"
      }
    },
    {
      "cell_type": "code",
      "execution_count": 20,
      "metadata": {
        "colab": {
          "base_uri": "https://localhost:8080/",
          "height": 452
        },
        "id": "CXQD7-q1ok8m",
        "outputId": "0e3eb2ac-b9ca-4f8e-a489-b074cf210b11"
      },
      "outputs": [
        {
          "output_type": "execute_result",
          "data": {
            "text/plain": [
              "        EIN                                      NAME APPLICATION_TYPE  \\\n",
              "0  10520599              BLUE KNIGHTS MOTORCYCLE CLUB              T10   \n",
              "1  10531628    AMERICAN CHESAPEAKE CLUB CHARITABLE TR               T3   \n",
              "2  10547893        ST CLOUD PROFESSIONAL FIREFIGHTERS               T5   \n",
              "3  10553066            SOUTHSIDE ATHLETIC ASSOCIATION               T3   \n",
              "4  10556103  GENETIC RESEARCH INSTITUTE OF THE DESERT               T3   \n",
              "\n",
              "        AFFILIATION CLASSIFICATION      USE_CASE  ORGANIZATION  STATUS  \\\n",
              "0       Independent          C1000    ProductDev   Association       1   \n",
              "1       Independent          C2000  Preservation  Co-operative       1   \n",
              "2  CompanySponsored          C3000    ProductDev   Association       1   \n",
              "3  CompanySponsored          C2000  Preservation         Trust       1   \n",
              "4       Independent          C1000     Heathcare         Trust       1   \n",
              "\n",
              "      INCOME_AMT SPECIAL_CONSIDERATIONS  ASK_AMT  IS_SUCCESSFUL  \n",
              "0              0                      N     5000              1  \n",
              "1         1-9999                      N   108590              1  \n",
              "2              0                      N     5000              0  \n",
              "3    10000-24999                      N     6692              1  \n",
              "4  100000-499999                      N   142590              1  "
            ],
            "text/html": [
              "\n",
              "  <div id=\"df-cee0c7fb-9b48-4792-8c2b-5cde1364f2dc\" class=\"colab-df-container\">\n",
              "    <div>\n",
              "<style scoped>\n",
              "    .dataframe tbody tr th:only-of-type {\n",
              "        vertical-align: middle;\n",
              "    }\n",
              "\n",
              "    .dataframe tbody tr th {\n",
              "        vertical-align: top;\n",
              "    }\n",
              "\n",
              "    .dataframe thead th {\n",
              "        text-align: right;\n",
              "    }\n",
              "</style>\n",
              "<table border=\"1\" class=\"dataframe\">\n",
              "  <thead>\n",
              "    <tr style=\"text-align: right;\">\n",
              "      <th></th>\n",
              "      <th>EIN</th>\n",
              "      <th>NAME</th>\n",
              "      <th>APPLICATION_TYPE</th>\n",
              "      <th>AFFILIATION</th>\n",
              "      <th>CLASSIFICATION</th>\n",
              "      <th>USE_CASE</th>\n",
              "      <th>ORGANIZATION</th>\n",
              "      <th>STATUS</th>\n",
              "      <th>INCOME_AMT</th>\n",
              "      <th>SPECIAL_CONSIDERATIONS</th>\n",
              "      <th>ASK_AMT</th>\n",
              "      <th>IS_SUCCESSFUL</th>\n",
              "    </tr>\n",
              "  </thead>\n",
              "  <tbody>\n",
              "    <tr>\n",
              "      <th>0</th>\n",
              "      <td>10520599</td>\n",
              "      <td>BLUE KNIGHTS MOTORCYCLE CLUB</td>\n",
              "      <td>T10</td>\n",
              "      <td>Independent</td>\n",
              "      <td>C1000</td>\n",
              "      <td>ProductDev</td>\n",
              "      <td>Association</td>\n",
              "      <td>1</td>\n",
              "      <td>0</td>\n",
              "      <td>N</td>\n",
              "      <td>5000</td>\n",
              "      <td>1</td>\n",
              "    </tr>\n",
              "    <tr>\n",
              "      <th>1</th>\n",
              "      <td>10531628</td>\n",
              "      <td>AMERICAN CHESAPEAKE CLUB CHARITABLE TR</td>\n",
              "      <td>T3</td>\n",
              "      <td>Independent</td>\n",
              "      <td>C2000</td>\n",
              "      <td>Preservation</td>\n",
              "      <td>Co-operative</td>\n",
              "      <td>1</td>\n",
              "      <td>1-9999</td>\n",
              "      <td>N</td>\n",
              "      <td>108590</td>\n",
              "      <td>1</td>\n",
              "    </tr>\n",
              "    <tr>\n",
              "      <th>2</th>\n",
              "      <td>10547893</td>\n",
              "      <td>ST CLOUD PROFESSIONAL FIREFIGHTERS</td>\n",
              "      <td>T5</td>\n",
              "      <td>CompanySponsored</td>\n",
              "      <td>C3000</td>\n",
              "      <td>ProductDev</td>\n",
              "      <td>Association</td>\n",
              "      <td>1</td>\n",
              "      <td>0</td>\n",
              "      <td>N</td>\n",
              "      <td>5000</td>\n",
              "      <td>0</td>\n",
              "    </tr>\n",
              "    <tr>\n",
              "      <th>3</th>\n",
              "      <td>10553066</td>\n",
              "      <td>SOUTHSIDE ATHLETIC ASSOCIATION</td>\n",
              "      <td>T3</td>\n",
              "      <td>CompanySponsored</td>\n",
              "      <td>C2000</td>\n",
              "      <td>Preservation</td>\n",
              "      <td>Trust</td>\n",
              "      <td>1</td>\n",
              "      <td>10000-24999</td>\n",
              "      <td>N</td>\n",
              "      <td>6692</td>\n",
              "      <td>1</td>\n",
              "    </tr>\n",
              "    <tr>\n",
              "      <th>4</th>\n",
              "      <td>10556103</td>\n",
              "      <td>GENETIC RESEARCH INSTITUTE OF THE DESERT</td>\n",
              "      <td>T3</td>\n",
              "      <td>Independent</td>\n",
              "      <td>C1000</td>\n",
              "      <td>Heathcare</td>\n",
              "      <td>Trust</td>\n",
              "      <td>1</td>\n",
              "      <td>100000-499999</td>\n",
              "      <td>N</td>\n",
              "      <td>142590</td>\n",
              "      <td>1</td>\n",
              "    </tr>\n",
              "  </tbody>\n",
              "</table>\n",
              "</div>\n",
              "    <div class=\"colab-df-buttons\">\n",
              "\n",
              "  <div class=\"colab-df-container\">\n",
              "    <button class=\"colab-df-convert\" onclick=\"convertToInteractive('df-cee0c7fb-9b48-4792-8c2b-5cde1364f2dc')\"\n",
              "            title=\"Convert this dataframe to an interactive table.\"\n",
              "            style=\"display:none;\">\n",
              "\n",
              "  <svg xmlns=\"http://www.w3.org/2000/svg\" height=\"24px\" viewBox=\"0 -960 960 960\">\n",
              "    <path d=\"M120-120v-720h720v720H120Zm60-500h600v-160H180v160Zm220 220h160v-160H400v160Zm0 220h160v-160H400v160ZM180-400h160v-160H180v160Zm440 0h160v-160H620v160ZM180-180h160v-160H180v160Zm440 0h160v-160H620v160Z\"/>\n",
              "  </svg>\n",
              "    </button>\n",
              "\n",
              "  <style>\n",
              "    .colab-df-container {\n",
              "      display:flex;\n",
              "      gap: 12px;\n",
              "    }\n",
              "\n",
              "    .colab-df-convert {\n",
              "      background-color: #E8F0FE;\n",
              "      border: none;\n",
              "      border-radius: 50%;\n",
              "      cursor: pointer;\n",
              "      display: none;\n",
              "      fill: #1967D2;\n",
              "      height: 32px;\n",
              "      padding: 0 0 0 0;\n",
              "      width: 32px;\n",
              "    }\n",
              "\n",
              "    .colab-df-convert:hover {\n",
              "      background-color: #E2EBFA;\n",
              "      box-shadow: 0px 1px 2px rgba(60, 64, 67, 0.3), 0px 1px 3px 1px rgba(60, 64, 67, 0.15);\n",
              "      fill: #174EA6;\n",
              "    }\n",
              "\n",
              "    .colab-df-buttons div {\n",
              "      margin-bottom: 4px;\n",
              "    }\n",
              "\n",
              "    [theme=dark] .colab-df-convert {\n",
              "      background-color: #3B4455;\n",
              "      fill: #D2E3FC;\n",
              "    }\n",
              "\n",
              "    [theme=dark] .colab-df-convert:hover {\n",
              "      background-color: #434B5C;\n",
              "      box-shadow: 0px 1px 3px 1px rgba(0, 0, 0, 0.15);\n",
              "      filter: drop-shadow(0px 1px 2px rgba(0, 0, 0, 0.3));\n",
              "      fill: #FFFFFF;\n",
              "    }\n",
              "  </style>\n",
              "\n",
              "    <script>\n",
              "      const buttonEl =\n",
              "        document.querySelector('#df-cee0c7fb-9b48-4792-8c2b-5cde1364f2dc button.colab-df-convert');\n",
              "      buttonEl.style.display =\n",
              "        google.colab.kernel.accessAllowed ? 'block' : 'none';\n",
              "\n",
              "      async function convertToInteractive(key) {\n",
              "        const element = document.querySelector('#df-cee0c7fb-9b48-4792-8c2b-5cde1364f2dc');\n",
              "        const dataTable =\n",
              "          await google.colab.kernel.invokeFunction('convertToInteractive',\n",
              "                                                    [key], {});\n",
              "        if (!dataTable) return;\n",
              "\n",
              "        const docLinkHtml = 'Like what you see? Visit the ' +\n",
              "          '<a target=\"_blank\" href=https://colab.research.google.com/notebooks/data_table.ipynb>data table notebook</a>'\n",
              "          + ' to learn more about interactive tables.';\n",
              "        element.innerHTML = '';\n",
              "        dataTable['output_type'] = 'display_data';\n",
              "        await google.colab.output.renderOutput(dataTable, element);\n",
              "        const docLink = document.createElement('div');\n",
              "        docLink.innerHTML = docLinkHtml;\n",
              "        element.appendChild(docLink);\n",
              "      }\n",
              "    </script>\n",
              "  </div>\n",
              "\n",
              "\n",
              "<div id=\"df-2927db5d-5d1a-4dd3-8fde-aaf798ed6f25\">\n",
              "  <button class=\"colab-df-quickchart\" onclick=\"quickchart('df-2927db5d-5d1a-4dd3-8fde-aaf798ed6f25')\"\n",
              "            title=\"Suggest charts\"\n",
              "            style=\"display:none;\">\n",
              "\n",
              "<svg xmlns=\"http://www.w3.org/2000/svg\" height=\"24px\"viewBox=\"0 0 24 24\"\n",
              "     width=\"24px\">\n",
              "    <g>\n",
              "        <path d=\"M19 3H5c-1.1 0-2 .9-2 2v14c0 1.1.9 2 2 2h14c1.1 0 2-.9 2-2V5c0-1.1-.9-2-2-2zM9 17H7v-7h2v7zm4 0h-2V7h2v10zm4 0h-2v-4h2v4z\"/>\n",
              "    </g>\n",
              "</svg>\n",
              "  </button>\n",
              "\n",
              "<style>\n",
              "  .colab-df-quickchart {\n",
              "      --bg-color: #E8F0FE;\n",
              "      --fill-color: #1967D2;\n",
              "      --hover-bg-color: #E2EBFA;\n",
              "      --hover-fill-color: #174EA6;\n",
              "      --disabled-fill-color: #AAA;\n",
              "      --disabled-bg-color: #DDD;\n",
              "  }\n",
              "\n",
              "  [theme=dark] .colab-df-quickchart {\n",
              "      --bg-color: #3B4455;\n",
              "      --fill-color: #D2E3FC;\n",
              "      --hover-bg-color: #434B5C;\n",
              "      --hover-fill-color: #FFFFFF;\n",
              "      --disabled-bg-color: #3B4455;\n",
              "      --disabled-fill-color: #666;\n",
              "  }\n",
              "\n",
              "  .colab-df-quickchart {\n",
              "    background-color: var(--bg-color);\n",
              "    border: none;\n",
              "    border-radius: 50%;\n",
              "    cursor: pointer;\n",
              "    display: none;\n",
              "    fill: var(--fill-color);\n",
              "    height: 32px;\n",
              "    padding: 0;\n",
              "    width: 32px;\n",
              "  }\n",
              "\n",
              "  .colab-df-quickchart:hover {\n",
              "    background-color: var(--hover-bg-color);\n",
              "    box-shadow: 0 1px 2px rgba(60, 64, 67, 0.3), 0 1px 3px 1px rgba(60, 64, 67, 0.15);\n",
              "    fill: var(--button-hover-fill-color);\n",
              "  }\n",
              "\n",
              "  .colab-df-quickchart-complete:disabled,\n",
              "  .colab-df-quickchart-complete:disabled:hover {\n",
              "    background-color: var(--disabled-bg-color);\n",
              "    fill: var(--disabled-fill-color);\n",
              "    box-shadow: none;\n",
              "  }\n",
              "\n",
              "  .colab-df-spinner {\n",
              "    border: 2px solid var(--fill-color);\n",
              "    border-color: transparent;\n",
              "    border-bottom-color: var(--fill-color);\n",
              "    animation:\n",
              "      spin 1s steps(1) infinite;\n",
              "  }\n",
              "\n",
              "  @keyframes spin {\n",
              "    0% {\n",
              "      border-color: transparent;\n",
              "      border-bottom-color: var(--fill-color);\n",
              "      border-left-color: var(--fill-color);\n",
              "    }\n",
              "    20% {\n",
              "      border-color: transparent;\n",
              "      border-left-color: var(--fill-color);\n",
              "      border-top-color: var(--fill-color);\n",
              "    }\n",
              "    30% {\n",
              "      border-color: transparent;\n",
              "      border-left-color: var(--fill-color);\n",
              "      border-top-color: var(--fill-color);\n",
              "      border-right-color: var(--fill-color);\n",
              "    }\n",
              "    40% {\n",
              "      border-color: transparent;\n",
              "      border-right-color: var(--fill-color);\n",
              "      border-top-color: var(--fill-color);\n",
              "    }\n",
              "    60% {\n",
              "      border-color: transparent;\n",
              "      border-right-color: var(--fill-color);\n",
              "    }\n",
              "    80% {\n",
              "      border-color: transparent;\n",
              "      border-right-color: var(--fill-color);\n",
              "      border-bottom-color: var(--fill-color);\n",
              "    }\n",
              "    90% {\n",
              "      border-color: transparent;\n",
              "      border-bottom-color: var(--fill-color);\n",
              "    }\n",
              "  }\n",
              "</style>\n",
              "\n",
              "  <script>\n",
              "    async function quickchart(key) {\n",
              "      const quickchartButtonEl =\n",
              "        document.querySelector('#' + key + ' button');\n",
              "      quickchartButtonEl.disabled = true;  // To prevent multiple clicks.\n",
              "      quickchartButtonEl.classList.add('colab-df-spinner');\n",
              "      try {\n",
              "        const charts = await google.colab.kernel.invokeFunction(\n",
              "            'suggestCharts', [key], {});\n",
              "      } catch (error) {\n",
              "        console.error('Error during call to suggestCharts:', error);\n",
              "      }\n",
              "      quickchartButtonEl.classList.remove('colab-df-spinner');\n",
              "      quickchartButtonEl.classList.add('colab-df-quickchart-complete');\n",
              "    }\n",
              "    (() => {\n",
              "      let quickchartButtonEl =\n",
              "        document.querySelector('#df-2927db5d-5d1a-4dd3-8fde-aaf798ed6f25 button');\n",
              "      quickchartButtonEl.style.display =\n",
              "        google.colab.kernel.accessAllowed ? 'block' : 'none';\n",
              "    })();\n",
              "  </script>\n",
              "</div>\n",
              "\n",
              "    </div>\n",
              "  </div>\n"
            ],
            "application/vnd.google.colaboratory.intrinsic+json": {
              "type": "dataframe",
              "variable_name": "application_df",
              "summary": "{\n  \"name\": \"application_df\",\n  \"rows\": 34299,\n  \"fields\": [\n    {\n      \"column\": \"EIN\",\n      \"properties\": {\n        \"dtype\": \"number\",\n        \"std\": 245147183,\n        \"min\": 10520599,\n        \"max\": 996086871,\n        \"num_unique_values\": 34299,\n        \"samples\": [\n          271598055,\n          900109768,\n          352562499\n        ],\n        \"semantic_type\": \"\",\n        \"description\": \"\"\n      }\n    },\n    {\n      \"column\": \"NAME\",\n      \"properties\": {\n        \"dtype\": \"string\",\n        \"num_unique_values\": 19568,\n        \"samples\": [\n          \"LOCAL 12 USW GOODYEAR INSTITUTE FORCAREER DEVELOPMENT\",\n          \"INTERNATION ASSOCIATION OF ELECTRICAL INSPECTORS\",\n          \"BRICKLAYERS & ALLIED CRAFTWORKERS LOCAL 13 VACATION FUND\"\n        ],\n        \"semantic_type\": \"\",\n        \"description\": \"\"\n      }\n    },\n    {\n      \"column\": \"APPLICATION_TYPE\",\n      \"properties\": {\n        \"dtype\": \"category\",\n        \"num_unique_values\": 17,\n        \"samples\": [\n          \"T10\",\n          \"T3\",\n          \"T6\"\n        ],\n        \"semantic_type\": \"\",\n        \"description\": \"\"\n      }\n    },\n    {\n      \"column\": \"AFFILIATION\",\n      \"properties\": {\n        \"dtype\": \"category\",\n        \"num_unique_values\": 6,\n        \"samples\": [\n          \"Independent\",\n          \"CompanySponsored\",\n          \"Other\"\n        ],\n        \"semantic_type\": \"\",\n        \"description\": \"\"\n      }\n    },\n    {\n      \"column\": \"CLASSIFICATION\",\n      \"properties\": {\n        \"dtype\": \"category\",\n        \"num_unique_values\": 71,\n        \"samples\": [\n          \"C1500\",\n          \"C1000\",\n          \"C1570\"\n        ],\n        \"semantic_type\": \"\",\n        \"description\": \"\"\n      }\n    },\n    {\n      \"column\": \"USE_CASE\",\n      \"properties\": {\n        \"dtype\": \"category\",\n        \"num_unique_values\": 5,\n        \"samples\": [\n          \"Preservation\",\n          \"Other\",\n          \"Heathcare\"\n        ],\n        \"semantic_type\": \"\",\n        \"description\": \"\"\n      }\n    },\n    {\n      \"column\": \"ORGANIZATION\",\n      \"properties\": {\n        \"dtype\": \"category\",\n        \"num_unique_values\": 4,\n        \"samples\": [\n          \"Co-operative\",\n          \"Corporation\",\n          \"Association\"\n        ],\n        \"semantic_type\": \"\",\n        \"description\": \"\"\n      }\n    },\n    {\n      \"column\": \"STATUS\",\n      \"properties\": {\n        \"dtype\": \"number\",\n        \"std\": 0,\n        \"min\": 0,\n        \"max\": 1,\n        \"num_unique_values\": 2,\n        \"samples\": [\n          0,\n          1\n        ],\n        \"semantic_type\": \"\",\n        \"description\": \"\"\n      }\n    },\n    {\n      \"column\": \"INCOME_AMT\",\n      \"properties\": {\n        \"dtype\": \"category\",\n        \"num_unique_values\": 9,\n        \"samples\": [\n          \"1M-5M\",\n          \"1-9999\"\n        ],\n        \"semantic_type\": \"\",\n        \"description\": \"\"\n      }\n    },\n    {\n      \"column\": \"SPECIAL_CONSIDERATIONS\",\n      \"properties\": {\n        \"dtype\": \"category\",\n        \"num_unique_values\": 2,\n        \"samples\": [\n          \"Y\",\n          \"N\"\n        ],\n        \"semantic_type\": \"\",\n        \"description\": \"\"\n      }\n    },\n    {\n      \"column\": \"ASK_AMT\",\n      \"properties\": {\n        \"dtype\": \"number\",\n        \"std\": 87130452,\n        \"min\": 5000,\n        \"max\": 8597806340,\n        \"num_unique_values\": 8747,\n        \"samples\": [\n          1328927,\n          42942\n        ],\n        \"semantic_type\": \"\",\n        \"description\": \"\"\n      }\n    },\n    {\n      \"column\": \"IS_SUCCESSFUL\",\n      \"properties\": {\n        \"dtype\": \"number\",\n        \"std\": 0,\n        \"min\": 0,\n        \"max\": 1,\n        \"num_unique_values\": 2,\n        \"samples\": [\n          0,\n          1\n        ],\n        \"semantic_type\": \"\",\n        \"description\": \"\"\n      }\n    }\n  ]\n}"
            }
          },
          "metadata": {},
          "execution_count": 20
        }
      ],
      "source": [
        "# Import the needed dependencies.\n",
        "from sklearn.model_selection import train_test_split\n",
        "from sklearn.preprocessing import StandardScaler\n",
        "import pandas as pd\n",
        "import tensorflow as tf\n",
        "\n",
        "#  Import and read the charity_data.csv from external webpage.\n",
        "application_df = pd.read_csv(\"https://static.bc-edx.com/data/dl-1-2/m21/lms/starter/charity_data.csv\")\n",
        "application_df.head()"
      ]
    },
    {
      "cell_type": "code",
      "execution_count": 21,
      "metadata": {
        "id": "279E-qUCok8s"
      },
      "outputs": [],
      "source": [
        "# Drop the non-beneficial ID columns.\n",
        "# This time DON'T drop \"NAME\" column as we want it to improve model's accuracy.\n",
        "application_df = application_df.drop([\"EIN\"], axis=1)"
      ]
    },
    {
      "cell_type": "code",
      "execution_count": 22,
      "metadata": {
        "colab": {
          "base_uri": "https://localhost:8080/"
        },
        "id": "sR_iN68sok8u",
        "outputId": "1d9c6511-7204-4513-cd10-6a4fd861b0b9"
      },
      "outputs": [
        {
          "output_type": "execute_result",
          "data": {
            "text/plain": [
              "NAME                      19568\n",
              "APPLICATION_TYPE             17\n",
              "AFFILIATION                   6\n",
              "CLASSIFICATION               71\n",
              "USE_CASE                      5\n",
              "ORGANIZATION                  4\n",
              "STATUS                        2\n",
              "INCOME_AMT                    9\n",
              "SPECIAL_CONSIDERATIONS        2\n",
              "ASK_AMT                    8747\n",
              "IS_SUCCESSFUL                 2\n",
              "dtype: int64"
            ]
          },
          "metadata": {},
          "execution_count": 22
        }
      ],
      "source": [
        "# Determine the number of unique values in each column.\n",
        "application_df.nunique()"
      ]
    },
    {
      "cell_type": "code",
      "execution_count": 23,
      "metadata": {
        "colab": {
          "base_uri": "https://localhost:8080/"
        },
        "id": "6c6PJftWok8v",
        "outputId": "3fd64d9e-9291-40f8-bcdb-b0f05e03b811"
      },
      "outputs": [
        {
          "output_type": "execute_result",
          "data": {
            "text/plain": [
              "PARENT BOOSTER USA INC                             1260\n",
              "TOPS CLUB INC                                       765\n",
              "UNITED STATES BOWLING CONGRESS INC                  700\n",
              "WASHINGTON STATE UNIVERSITY                         492\n",
              "AMATEUR ATHLETIC UNION OF THE UNITED STATES INC     408\n",
              "                                                   ... \n",
              "OLD OAK CLIFF CONSERVATION LEAGUE INC                 6\n",
              "AMERICAN NEPHROLOGY NURSES ASSOCIATION                6\n",
              "HUMBLE ISD EDUCATIONAL SUPPORT GROUPS INC             6\n",
              "PROFESSIONAL LOADMASTER ASSOCIATION                   6\n",
              "CBMC INC                                              6\n",
              "Name: NAME, Length: 354, dtype: int64"
            ]
          },
          "metadata": {},
          "execution_count": 23
        }
      ],
      "source": [
        "# Look at \"NAME\" value counts for binning.\n",
        "name_counts = application_df['NAME'].value_counts()\n",
        "# Find how many name counts are greater than 5.\n",
        "name_counts[name_counts>5]"
      ]
    },
    {
      "cell_type": "code",
      "execution_count": 24,
      "metadata": {
        "colab": {
          "base_uri": "https://localhost:8080/"
        },
        "id": "MBvWc74eok8w",
        "outputId": "e2bd04d6-953f-442c-9b10-b02c102598cb"
      },
      "outputs": [
        {
          "output_type": "execute_result",
          "data": {
            "text/plain": [
              "Other                                           20043\n",
              "PARENT BOOSTER USA INC                           1260\n",
              "TOPS CLUB INC                                     765\n",
              "UNITED STATES BOWLING CONGRESS INC                700\n",
              "WASHINGTON STATE UNIVERSITY                       492\n",
              "                                                ...  \n",
              "HABITAT FOR HUMANITY INTERNATIONAL                  6\n",
              "DAMAGE PREVENTION COUNCIL OF TEXAS                  6\n",
              "FLEET RESERVE ASSOCIATION                           6\n",
              "HUGH OBRIAN YOUTH LEADERSHIP                        6\n",
              "INTERNATIONAL CONGRESS OF CHURCHES MINISTERS        6\n",
              "Name: NAME, Length: 355, dtype: int64"
            ]
          },
          "metadata": {},
          "execution_count": 24
        }
      ],
      "source": [
        "# Determine which values to replace if counts are less than or equal to 5.\n",
        "name_replace = list(name_counts[name_counts <= 5].index)\n",
        "\n",
        "# Replace in dataframe.\n",
        "for app in name_replace:\n",
        "    application_df['NAME'] = application_df['NAME'].replace(app,\"Other\")\n",
        "\n",
        "# Check to make sure binning was successful.\n",
        "application_df['NAME'].value_counts()"
      ]
    },
    {
      "cell_type": "code",
      "execution_count": 27,
      "metadata": {
        "colab": {
          "base_uri": "https://localhost:8080/"
        },
        "id": "-a4eDbu1ok8w",
        "outputId": "4af30f29-9a26-4ca5-8a90-7fa51cb3d75f"
      },
      "outputs": [
        {
          "output_type": "stream",
          "name": "stdout",
          "text": [
            "T3       27037\n",
            "T4        1542\n",
            "T6        1216\n",
            "T5        1173\n",
            "T19       1065\n",
            "T8         737\n",
            "T7         725\n",
            "T10        528\n",
            "Other      276\n",
            "Name: APPLICATION_TYPE, dtype: int64\n"
          ]
        }
      ],
      "source": [
        "# Look at APPLICATION_TYPE value counts for binning.\n",
        "application_counts = application_df['APPLICATION_TYPE'].value_counts()\n",
        "print(application_counts)"
      ]
    },
    {
      "cell_type": "code",
      "execution_count": 28,
      "metadata": {
        "colab": {
          "base_uri": "https://localhost:8080/"
        },
        "id": "i25Cog6Dok8x",
        "outputId": "8e7b15d9-a4ac-4e39-d52d-1cd3a03518c1"
      },
      "outputs": [
        {
          "output_type": "execute_result",
          "data": {
            "text/plain": [
              "T3       27037\n",
              "T4        1542\n",
              "T6        1216\n",
              "T5        1173\n",
              "T19       1065\n",
              "T8         737\n",
              "T7         725\n",
              "T10        528\n",
              "Other      276\n",
              "Name: APPLICATION_TYPE, dtype: int64"
            ]
          },
          "metadata": {},
          "execution_count": 28
        }
      ],
      "source": [
        "# We choose 500 as our cutoff for number of application counts.\n",
        "application_types_to_replace = list(application_counts[application_counts < 500].index)\n",
        "\n",
        "# Replace in dataframe.\n",
        "for app in application_types_to_replace:\n",
        "    application_df['APPLICATION_TYPE'] = application_df['APPLICATION_TYPE'].replace(app,\"Other\")\n",
        "\n",
        "# Check to make sure binning was successful.\n",
        "application_df['APPLICATION_TYPE'].value_counts()"
      ]
    },
    {
      "cell_type": "code",
      "execution_count": 29,
      "metadata": {
        "colab": {
          "base_uri": "https://localhost:8080/"
        },
        "id": "XybqEQg1ok8x",
        "outputId": "a556a3bc-74d4-4f37-dd63-3d824ff920a6"
      },
      "outputs": [
        {
          "output_type": "stream",
          "name": "stdout",
          "text": [
            "C1000    17326\n",
            "C2000     6074\n",
            "C1200     4837\n",
            "C3000     1918\n",
            "C2100     1883\n",
            "         ...  \n",
            "C4120        1\n",
            "C8210        1\n",
            "C2561        1\n",
            "C4500        1\n",
            "C2150        1\n",
            "Name: CLASSIFICATION, Length: 71, dtype: int64\n"
          ]
        }
      ],
      "source": [
        "# Look at CLASSIFICATION value counts for binning.\n",
        "classification_counts = application_df['CLASSIFICATION'].value_counts()\n",
        "print(classification_counts)"
      ]
    },
    {
      "cell_type": "code",
      "execution_count": 30,
      "metadata": {
        "colab": {
          "base_uri": "https://localhost:8080/"
        },
        "id": "oiDq1MH_ok8y",
        "outputId": "0aa4c93f-2c03-483f-d1c1-be89c853ce63"
      },
      "outputs": [
        {
          "output_type": "execute_result",
          "data": {
            "text/plain": [
              "C1000    17326\n",
              "C2000     6074\n",
              "C1200     4837\n",
              "Other     2261\n",
              "C3000     1918\n",
              "C2100     1883\n",
              "Name: CLASSIFICATION, dtype: int64"
            ]
          },
          "metadata": {},
          "execution_count": 30
        }
      ],
      "source": [
        "# Determine which values to replace if counts are less than 1000.\n",
        "classes_to_replace = list(classification_counts[classification_counts < 1000].index)\n",
        "\n",
        "# Replace in dataframe.\n",
        "for cls in classes_to_replace:\n",
        "    application_df['CLASSIFICATION'] = application_df['CLASSIFICATION'].replace(cls,\"Other\")\n",
        "\n",
        "# Check to make sure binning was successful.\n",
        "application_df['CLASSIFICATION'].value_counts()"
      ]
    },
    {
      "cell_type": "code",
      "execution_count": 31,
      "metadata": {
        "id": "oyas9goXok8z"
      },
      "outputs": [],
      "source": [
        "# Generate categorical variable lists.\n",
        "application_cat = application_df.dtypes[application_df.dtypes == \"object\"].index.tolist()"
      ]
    },
    {
      "cell_type": "code",
      "execution_count": 32,
      "metadata": {
        "id": "IrriBAdTok81"
      },
      "outputs": [],
      "source": [
        "# Convert categorical data to numeric with `pd.get_dummies`.\n",
        "application_dummies_df = pd.get_dummies(application_df)"
      ]
    },
    {
      "cell_type": "code",
      "execution_count": 33,
      "metadata": {
        "id": "Bh3rP7ehok82"
      },
      "outputs": [],
      "source": [
        "# Split preprocessed data into independent variables and dependent variable arrays.\n",
        "X = application_dummies_df.drop([\"IS_SUCCESSFUL\"], axis='columns').values\n",
        "y = application_dummies_df[\"IS_SUCCESSFUL\"].values\n",
        "\n",
        "# Use random state of 42 so that model produces same results every time that it runs.\n",
        "X_train, X_test, y_train, y_test = train_test_split(X, y, random_state=42)"
      ]
    },
    {
      "cell_type": "code",
      "execution_count": 34,
      "metadata": {
        "id": "SG3kwiMpok82"
      },
      "outputs": [],
      "source": [
        "# Create StandardScaler instance.\n",
        "scaler = StandardScaler()\n",
        "\n",
        "# Fit the StandardScaler.\n",
        "X_scaler = scaler.fit(X_train)\n",
        "\n",
        "# Scale the data.\n",
        "X_train_scaled = X_scaler.transform(X_train)\n",
        "X_test_scaled = X_scaler.transform(X_test)"
      ]
    },
    {
      "cell_type": "code",
      "execution_count": 35,
      "metadata": {
        "colab": {
          "base_uri": "https://localhost:8080/"
        },
        "id": "ismAc2Aiok82",
        "outputId": "94695158-5f09-40a0-ead9-3469969711ae"
      },
      "outputs": [
        {
          "output_type": "stream",
          "name": "stdout",
          "text": [
            "Model: \"sequential_1\"\n",
            "_________________________________________________________________\n",
            " Layer (type)                Output Shape              Param #   \n",
            "=================================================================\n",
            " dense_4 (Dense)             (None, 100)               39900     \n",
            "                                                                 \n",
            " dense_5 (Dense)             (None, 30)                3030      \n",
            "                                                                 \n",
            " dense_6 (Dense)             (None, 10)                310       \n",
            "                                                                 \n",
            " dense_7 (Dense)             (None, 1)                 11        \n",
            "                                                                 \n",
            "=================================================================\n",
            "Total params: 43251 (168.95 KB)\n",
            "Trainable params: 43251 (168.95 KB)\n",
            "Non-trainable params: 0 (0.00 Byte)\n",
            "_________________________________________________________________\n"
          ]
        }
      ],
      "source": [
        "# Define the model - deep neural net, i.e., the number of input features and hidden nodes for each layer.\n",
        "number_input_features = len(X_train[0])# number of input features determined by number of columns in X_train variable\n",
        "hidden_layer1 =  100\n",
        "hidden_layer2 = 30\n",
        "hidden_layer3 = 10\n",
        "\n",
        "nn = tf.keras.models.Sequential()\n",
        "\n",
        "# First hidden layer\n",
        "nn.add(\n",
        "    tf.keras.layers.Dense(units=hidden_layer1, input_dim=number_input_features, activation=\"relu\")\n",
        ")# use 'relu' for first hidden layer\n",
        "\n",
        "# Second hidden layer\n",
        "nn.add(tf.keras.layers.Dense(units=hidden_layer2, activation=\"sigmoid\"))# use sigmoid for second hidden layer\n",
        "\n",
        "# Third hidden layer\n",
        "nn.add(tf.keras.layers.Dense(units=hidden_layer3, activation=\"sigmoid\"))# use sigmoid for third hidden layer\n",
        "\n",
        "# Output layer\n",
        "nn.add(tf.keras.layers.Dense(units=1, activation=\"sigmoid\"))# use sigmodi for output layer\n",
        "# Check the structure of the model.\n",
        "nn.summary()"
      ]
    },
    {
      "cell_type": "code",
      "execution_count": 36,
      "metadata": {
        "id": "ciZe0_duok83"
      },
      "outputs": [],
      "source": [
        "# Compile the model.\n",
        "nn.compile(loss=\"binary_crossentropy\", optimizer=\"adam\", metrics=[\"accuracy\"])"
      ]
    },
    {
      "cell_type": "code",
      "execution_count": 37,
      "metadata": {
        "colab": {
          "base_uri": "https://localhost:8080/"
        },
        "id": "3GmoVeG7ok84",
        "outputId": "b00f39af-8e99-4c70-8f05-a43e0c757902"
      },
      "outputs": [
        {
          "output_type": "stream",
          "name": "stdout",
          "text": [
            "Epoch 1/100\n",
            "804/804 [==============================] - 4s 3ms/step - loss: 0.4911 - accuracy: 0.7747\n",
            "Epoch 2/100\n",
            "804/804 [==============================] - 3s 3ms/step - loss: 0.4417 - accuracy: 0.7936\n",
            "Epoch 3/100\n",
            "804/804 [==============================] - 3s 3ms/step - loss: 0.4340 - accuracy: 0.7968\n",
            "Epoch 4/100\n",
            "804/804 [==============================] - 4s 4ms/step - loss: 0.4296 - accuracy: 0.7980\n",
            "Epoch 5/100\n",
            "804/804 [==============================] - 3s 3ms/step - loss: 0.4259 - accuracy: 0.7983\n",
            "Epoch 6/100\n",
            "804/804 [==============================] - 3s 3ms/step - loss: 0.4242 - accuracy: 0.7986\n",
            "Epoch 7/100\n",
            "804/804 [==============================] - 3s 3ms/step - loss: 0.4224 - accuracy: 0.7991\n",
            "Epoch 8/100\n",
            "804/804 [==============================] - 3s 4ms/step - loss: 0.4210 - accuracy: 0.7990\n",
            "Epoch 9/100\n",
            "804/804 [==============================] - 3s 4ms/step - loss: 0.4198 - accuracy: 0.7996\n",
            "Epoch 10/100\n",
            "804/804 [==============================] - 3s 3ms/step - loss: 0.4190 - accuracy: 0.8000\n",
            "Epoch 11/100\n",
            "804/804 [==============================] - 3s 3ms/step - loss: 0.4178 - accuracy: 0.8000\n",
            "Epoch 12/100\n",
            "804/804 [==============================] - 3s 4ms/step - loss: 0.4167 - accuracy: 0.8016\n",
            "Epoch 13/100\n",
            "804/804 [==============================] - 3s 3ms/step - loss: 0.4162 - accuracy: 0.8011\n",
            "Epoch 14/100\n",
            "804/804 [==============================] - 3s 3ms/step - loss: 0.4156 - accuracy: 0.8011\n",
            "Epoch 15/100\n",
            "804/804 [==============================] - 3s 3ms/step - loss: 0.4144 - accuracy: 0.8024\n",
            "Epoch 16/100\n",
            "804/804 [==============================] - 3s 4ms/step - loss: 0.4141 - accuracy: 0.8016\n",
            "Epoch 17/100\n",
            "804/804 [==============================] - 3s 3ms/step - loss: 0.4132 - accuracy: 0.8035\n",
            "Epoch 18/100\n",
            "804/804 [==============================] - 3s 3ms/step - loss: 0.4126 - accuracy: 0.8031\n",
            "Epoch 19/100\n",
            "804/804 [==============================] - 3s 3ms/step - loss: 0.4122 - accuracy: 0.8035\n",
            "Epoch 20/100\n",
            "804/804 [==============================] - 3s 4ms/step - loss: 0.4119 - accuracy: 0.8040\n",
            "Epoch 21/100\n",
            "804/804 [==============================] - 3s 4ms/step - loss: 0.4112 - accuracy: 0.8033\n",
            "Epoch 22/100\n",
            "804/804 [==============================] - 3s 3ms/step - loss: 0.4105 - accuracy: 0.8044\n",
            "Epoch 23/100\n",
            "804/804 [==============================] - 3s 3ms/step - loss: 0.4103 - accuracy: 0.8039\n",
            "Epoch 24/100\n",
            "804/804 [==============================] - 3s 4ms/step - loss: 0.4098 - accuracy: 0.8042\n",
            "Epoch 25/100\n",
            "804/804 [==============================] - 3s 4ms/step - loss: 0.4094 - accuracy: 0.8049\n",
            "Epoch 26/100\n",
            "804/804 [==============================] - 3s 3ms/step - loss: 0.4088 - accuracy: 0.8038\n",
            "Epoch 27/100\n",
            "804/804 [==============================] - 3s 3ms/step - loss: 0.4083 - accuracy: 0.8050\n",
            "Epoch 28/100\n",
            "804/804 [==============================] - 3s 3ms/step - loss: 0.4079 - accuracy: 0.8050\n",
            "Epoch 29/100\n",
            "804/804 [==============================] - 3s 4ms/step - loss: 0.4080 - accuracy: 0.8046\n",
            "Epoch 30/100\n",
            "804/804 [==============================] - 3s 3ms/step - loss: 0.4074 - accuracy: 0.8055\n",
            "Epoch 31/100\n",
            "804/804 [==============================] - 3s 3ms/step - loss: 0.4074 - accuracy: 0.8056\n",
            "Epoch 32/100\n",
            "804/804 [==============================] - 3s 3ms/step - loss: 0.4069 - accuracy: 0.8059\n",
            "Epoch 33/100\n",
            "804/804 [==============================] - 4s 4ms/step - loss: 0.4065 - accuracy: 0.8063\n",
            "Epoch 34/100\n",
            "804/804 [==============================] - 3s 3ms/step - loss: 0.4066 - accuracy: 0.8056\n",
            "Epoch 35/100\n",
            "804/804 [==============================] - 3s 3ms/step - loss: 0.4057 - accuracy: 0.8066\n",
            "Epoch 36/100\n",
            "804/804 [==============================] - 3s 3ms/step - loss: 0.4059 - accuracy: 0.8065\n",
            "Epoch 37/100\n",
            "804/804 [==============================] - 4s 5ms/step - loss: 0.4054 - accuracy: 0.8065\n",
            "Epoch 38/100\n",
            "804/804 [==============================] - 3s 3ms/step - loss: 0.4052 - accuracy: 0.8061\n",
            "Epoch 39/100\n",
            "804/804 [==============================] - 3s 3ms/step - loss: 0.4047 - accuracy: 0.8077\n",
            "Epoch 40/100\n",
            "804/804 [==============================] - 3s 3ms/step - loss: 0.4046 - accuracy: 0.8068\n",
            "Epoch 41/100\n",
            "804/804 [==============================] - 3s 4ms/step - loss: 0.4046 - accuracy: 0.8064\n",
            "Epoch 42/100\n",
            "804/804 [==============================] - 3s 4ms/step - loss: 0.4039 - accuracy: 0.8070\n",
            "Epoch 43/100\n",
            "804/804 [==============================] - 3s 3ms/step - loss: 0.4044 - accuracy: 0.8071\n",
            "Epoch 44/100\n",
            "804/804 [==============================] - 3s 3ms/step - loss: 0.4035 - accuracy: 0.8063\n",
            "Epoch 45/100\n",
            "804/804 [==============================] - 3s 4ms/step - loss: 0.4037 - accuracy: 0.8078\n",
            "Epoch 46/100\n",
            "804/804 [==============================] - 3s 4ms/step - loss: 0.4032 - accuracy: 0.8057\n",
            "Epoch 47/100\n",
            "804/804 [==============================] - 3s 3ms/step - loss: 0.4031 - accuracy: 0.8068\n",
            "Epoch 48/100\n",
            "804/804 [==============================] - 3s 3ms/step - loss: 0.4035 - accuracy: 0.8061\n",
            "Epoch 49/100\n",
            "804/804 [==============================] - 3s 4ms/step - loss: 0.4027 - accuracy: 0.8078\n",
            "Epoch 50/100\n",
            "804/804 [==============================] - 4s 4ms/step - loss: 0.4029 - accuracy: 0.8079\n",
            "Epoch 51/100\n",
            "804/804 [==============================] - 3s 3ms/step - loss: 0.4022 - accuracy: 0.8077\n",
            "Epoch 52/100\n",
            "804/804 [==============================] - 3s 3ms/step - loss: 0.4021 - accuracy: 0.8067\n",
            "Epoch 53/100\n",
            "804/804 [==============================] - 3s 4ms/step - loss: 0.4023 - accuracy: 0.8077\n",
            "Epoch 54/100\n",
            "804/804 [==============================] - 4s 4ms/step - loss: 0.4020 - accuracy: 0.8077\n",
            "Epoch 55/100\n",
            "804/804 [==============================] - 3s 3ms/step - loss: 0.4020 - accuracy: 0.8078\n",
            "Epoch 56/100\n",
            "804/804 [==============================] - 3s 3ms/step - loss: 0.4019 - accuracy: 0.8082\n",
            "Epoch 57/100\n",
            "804/804 [==============================] - 3s 3ms/step - loss: 0.4017 - accuracy: 0.8073\n",
            "Epoch 58/100\n",
            "804/804 [==============================] - 3s 4ms/step - loss: 0.4016 - accuracy: 0.8079\n",
            "Epoch 59/100\n",
            "804/804 [==============================] - 3s 3ms/step - loss: 0.4012 - accuracy: 0.8079\n",
            "Epoch 60/100\n",
            "804/804 [==============================] - 3s 3ms/step - loss: 0.4011 - accuracy: 0.8078\n",
            "Epoch 61/100\n",
            "804/804 [==============================] - 3s 3ms/step - loss: 0.4008 - accuracy: 0.8080\n",
            "Epoch 62/100\n",
            "804/804 [==============================] - 3s 4ms/step - loss: 0.4015 - accuracy: 0.8083\n",
            "Epoch 63/100\n",
            "804/804 [==============================] - 3s 3ms/step - loss: 0.4006 - accuracy: 0.8087\n",
            "Epoch 64/100\n",
            "804/804 [==============================] - 3s 3ms/step - loss: 0.4005 - accuracy: 0.8085\n",
            "Epoch 65/100\n",
            "804/804 [==============================] - 3s 3ms/step - loss: 0.4007 - accuracy: 0.8079\n",
            "Epoch 66/100\n",
            "804/804 [==============================] - 3s 4ms/step - loss: 0.4008 - accuracy: 0.8087\n",
            "Epoch 67/100\n",
            "804/804 [==============================] - 3s 4ms/step - loss: 0.4006 - accuracy: 0.8087\n",
            "Epoch 68/100\n",
            "804/804 [==============================] - 3s 3ms/step - loss: 0.4004 - accuracy: 0.8081\n",
            "Epoch 69/100\n",
            "804/804 [==============================] - 3s 3ms/step - loss: 0.4004 - accuracy: 0.8087\n",
            "Epoch 70/100\n",
            "804/804 [==============================] - 3s 4ms/step - loss: 0.4000 - accuracy: 0.8081\n",
            "Epoch 71/100\n",
            "804/804 [==============================] - 3s 4ms/step - loss: 0.4001 - accuracy: 0.8084\n",
            "Epoch 72/100\n",
            "804/804 [==============================] - 3s 3ms/step - loss: 0.3996 - accuracy: 0.8087\n",
            "Epoch 73/100\n",
            "804/804 [==============================] - 3s 3ms/step - loss: 0.4002 - accuracy: 0.8086\n",
            "Epoch 74/100\n",
            "804/804 [==============================] - 3s 3ms/step - loss: 0.4004 - accuracy: 0.8087\n",
            "Epoch 75/100\n",
            "804/804 [==============================] - 3s 4ms/step - loss: 0.4005 - accuracy: 0.8092\n",
            "Epoch 76/100\n",
            "804/804 [==============================] - 3s 3ms/step - loss: 0.3998 - accuracy: 0.8088\n",
            "Epoch 77/100\n",
            "804/804 [==============================] - 3s 4ms/step - loss: 0.3999 - accuracy: 0.8091\n",
            "Epoch 78/100\n",
            "804/804 [==============================] - 3s 3ms/step - loss: 0.3994 - accuracy: 0.8083\n",
            "Epoch 79/100\n",
            "804/804 [==============================] - 3s 4ms/step - loss: 0.3998 - accuracy: 0.8088\n",
            "Epoch 80/100\n",
            "804/804 [==============================] - 3s 3ms/step - loss: 0.3995 - accuracy: 0.8084\n",
            "Epoch 81/100\n",
            "804/804 [==============================] - 3s 3ms/step - loss: 0.3995 - accuracy: 0.8084\n",
            "Epoch 82/100\n",
            "804/804 [==============================] - 3s 4ms/step - loss: 0.3994 - accuracy: 0.8090\n",
            "Epoch 83/100\n",
            "804/804 [==============================] - 4s 4ms/step - loss: 0.3992 - accuracy: 0.8085\n",
            "Epoch 84/100\n",
            "804/804 [==============================] - 3s 4ms/step - loss: 0.3985 - accuracy: 0.8097\n",
            "Epoch 85/100\n",
            "804/804 [==============================] - 3s 4ms/step - loss: 0.3985 - accuracy: 0.8097\n",
            "Epoch 86/100\n",
            "804/804 [==============================] - 3s 3ms/step - loss: 0.3984 - accuracy: 0.8095\n",
            "Epoch 87/100\n",
            "804/804 [==============================] - 4s 4ms/step - loss: 0.3983 - accuracy: 0.8090\n",
            "Epoch 88/100\n",
            "804/804 [==============================] - 3s 3ms/step - loss: 0.3985 - accuracy: 0.8097\n",
            "Epoch 89/100\n",
            "804/804 [==============================] - 3s 3ms/step - loss: 0.3990 - accuracy: 0.8094\n",
            "Epoch 90/100\n",
            "804/804 [==============================] - 3s 3ms/step - loss: 0.3992 - accuracy: 0.8088\n",
            "Epoch 91/100\n",
            "804/804 [==============================] - 4s 4ms/step - loss: 0.3982 - accuracy: 0.8098\n",
            "Epoch 92/100\n",
            "804/804 [==============================] - 3s 3ms/step - loss: 0.3988 - accuracy: 0.8086\n",
            "Epoch 93/100\n",
            "804/804 [==============================] - 3s 3ms/step - loss: 0.3987 - accuracy: 0.8096\n",
            "Epoch 94/100\n",
            "804/804 [==============================] - 3s 3ms/step - loss: 0.3984 - accuracy: 0.8094\n",
            "Epoch 95/100\n",
            "804/804 [==============================] - 3s 4ms/step - loss: 0.3980 - accuracy: 0.8085\n",
            "Epoch 96/100\n",
            "804/804 [==============================] - 3s 4ms/step - loss: 0.3984 - accuracy: 0.8088\n",
            "Epoch 97/100\n",
            "804/804 [==============================] - 3s 3ms/step - loss: 0.3986 - accuracy: 0.8087\n",
            "Epoch 98/100\n",
            "804/804 [==============================] - 3s 3ms/step - loss: 0.3983 - accuracy: 0.8089\n",
            "Epoch 99/100\n",
            "804/804 [==============================] - 3s 4ms/step - loss: 0.3979 - accuracy: 0.8100\n",
            "Epoch 100/100\n",
            "804/804 [==============================] - 3s 4ms/step - loss: 0.3983 - accuracy: 0.8092\n"
          ]
        }
      ],
      "source": [
        "# Train the model.\n",
        "# Run model through 100 epochs.\n",
        "fit_model = nn.fit(X_train_scaled,y_train,epochs=100)"
      ]
    },
    {
      "cell_type": "code",
      "execution_count": 38,
      "metadata": {
        "colab": {
          "base_uri": "https://localhost:8080/"
        },
        "id": "FGq7CHwlok85",
        "outputId": "9e378a8c-d203-45e6-b7ba-8208f0293b27"
      },
      "outputs": [
        {
          "output_type": "stream",
          "name": "stdout",
          "text": [
            "268/268 - 1s - loss: 0.4746 - accuracy: 0.7836 - 576ms/epoch - 2ms/step\n",
            "Loss: 0.4746280312538147, Accuracy: 0.7835568785667419\n"
          ]
        }
      ],
      "source": [
        "# Evaluate the model using the test data.\n",
        "model_loss, model_accuracy = nn.evaluate(X_test_scaled,y_test,verbose=2)\n",
        "print(f\"Loss: {model_loss}, Accuracy: {model_accuracy}\")"
      ]
    },
    {
      "cell_type": "code",
      "execution_count": 39,
      "metadata": {
        "colab": {
          "base_uri": "https://localhost:8080/"
        },
        "id": "OwGnDo2wok85",
        "outputId": "a5bd098a-cb6a-445b-d6d7-605d6ae96af7"
      },
      "outputs": [
        {
          "output_type": "stream",
          "name": "stderr",
          "text": [
            "/usr/local/lib/python3.10/dist-packages/keras/src/engine/training.py:3103: UserWarning: You are saving your model as an HDF5 file via `model.save()`. This file format is considered legacy. We recommend using instead the native Keras format, e.g. `model.save('my_model.keras')`.\n",
            "  saving_api.save_model(\n"
          ]
        }
      ],
      "source": [
        "# Export optimized model to HDF5 file.\n",
        "nn.save(\"AlphabetSoupCharity_Optimization.h5\")"
      ]
    },
    {
      "cell_type": "markdown",
      "metadata": {
        "id": "KgU1eXm_ok86"
      },
      "source": [
        "#### Data Preprocessing\n",
        "----\n",
        "1. What variable(s) are considered the target for your model?\n",
        "ANSWER: \"Is-Successful\" column.\n",
        "---\n",
        "2. What variable(s) are considered to be the features for your model?\n",
        "ANSWER: NAME, APPLICATION, TYPE, AFFILIATION, CLASSIFICATION, USE_CASE, ORGANIZATION, INCOME_AMT,SPECIAL_CONSIDERATIONS, STATUS, and ASK_AMT\n",
        "---\n",
        "3. What variable(s) are neither and should be removed from the input data?\n",
        "ANSWER:  EIN, SPECIAL_CONSIDERATIONS, STATUS\n"
      ]
    },
    {
      "cell_type": "markdown",
      "metadata": {
        "id": "uIqH5kWaok88"
      },
      "source": [
        "#### Compiling, Training, and Evaluating the Model\n",
        "----\n",
        "1. How many neurons, layers, and and activation functions did you select for your neural network model, and why?\n",
        "ANSWER: Three hidden layers.  Changing the 2nd and 3rd activation functions to 'sigmoid' also helped boost the accuracy.\n",
        "---\n",
        "2. Were you able to achieve the target model performance?\n",
        "ANSWER: Yes\n",
        "---\n",
        "3. What steps did you take to try and increase model performance?\n",
        "ANSWER: Converted the NAME column into data points.  Also added a third layer and used \"sigmoid\" activation function for the 2nd and 3rd layer."
      ]
    },
    {
      "cell_type": "code",
      "execution_count": null,
      "metadata": {
        "id": "pKoIIwzUok8-"
      },
      "outputs": [],
      "source": []
    }
  ],
  "metadata": {
    "kernelspec": {
      "display_name": "Python 3",
      "name": "python3"
    },
    "language_info": {
      "codemirror_mode": {
        "name": "ipython",
        "version": 3
      },
      "file_extension": ".py",
      "mimetype": "text/x-python",
      "name": "python",
      "nbconvert_exporter": "python",
      "pygments_lexer": "ipython3",
      "version": "3.10.13"
    },
    "vscode": {
      "interpreter": {
        "hash": "31f2aee4e71d21fbe5cf8b01ff0e069b9275f58929596ceb00d14d90e3e16cd6"
      }
    },
    "colab": {
      "provenance": [],
      "gpuType": "T4"
    },
    "accelerator": "GPU"
  },
  "nbformat": 4,
  "nbformat_minor": 0
}